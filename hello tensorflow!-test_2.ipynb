{
 "cells": [
  {
   "cell_type": "code",
   "execution_count": 1,
   "id": "f39858b3",
   "metadata": {},
   "outputs": [
    {
     "name": "stdout",
     "output_type": "stream",
     "text": [
      "Hello Anaconda\n"
     ]
    }
   ],
   "source": [
    "print(\"Hello Anaconda\")"
   ]
  },
  {
   "cell_type": "code",
   "execution_count": 10,
   "id": "a0c2dcfa",
   "metadata": {
    "scrolled": true
   },
   "outputs": [
    {
     "name": "stdout",
     "output_type": "stream",
     "text": [
      "b'hello,tf'\n"
     ]
    }
   ],
   "source": [
    "# tf2.0版本\n",
    "import tensorflow.compat.v1 as tf\n",
    "tf.disable_eager_execution()        \n",
    "hello = tf.constant('hello,tf')\n",
    "sess = tf.Session()\n",
    "print(sess.run(hello))"
   ]
  },
  {
   "cell_type": "code",
   "execution_count": 6,
   "id": "9e8932e1",
   "metadata": {},
   "outputs": [
    {
     "name": "stdout",
     "output_type": "stream",
     "text": [
      "hello opencv\n"
     ]
    }
   ],
   "source": [
    "# verify no opencv installation issue\n",
    "import cv2\n",
    "print('hello opencv')"
   ]
  },
  {
   "cell_type": "code",
   "execution_count": null,
   "id": "c2483844",
   "metadata": {},
   "outputs": [],
   "source": []
  },
  {
   "cell_type": "code",
   "execution_count": null,
   "id": "ee0d4641",
   "metadata": {},
   "outputs": [],
   "source": []
  }
 ],
 "metadata": {
  "kernelspec": {
   "display_name": "Python 3",
   "language": "python",
   "name": "python3"
  },
  "language_info": {
   "codemirror_mode": {
    "name": "ipython",
    "version": 3
   },
   "file_extension": ".py",
   "mimetype": "text/x-python",
   "name": "python",
   "nbconvert_exporter": "python",
   "pygments_lexer": "ipython3",
   "version": "3.8.10"
  }
 },
 "nbformat": 4,
 "nbformat_minor": 5
}
