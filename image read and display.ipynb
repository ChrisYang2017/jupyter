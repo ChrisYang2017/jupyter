{
 "cells": [
  {
   "cell_type": "code",
   "execution_count": null,
   "id": "f23676a7",
   "metadata": {},
   "outputs": [],
   "source": [
    "# 1 import opencv  2 api 3 stop\n",
    "import cv2\n",
    "img=cv2.imread('imageExample.png',1) #read image 1 name 2 type(0, grey 1-color)\n",
    "cv2.imshow('image',img) #name win 2 img content\n",
    "cv2.waitKey(0)"
   ]
  },
  {
   "cell_type": "code",
   "execution_count": null,
   "id": "6d8a1d26",
   "metadata": {},
   "outputs": [],
   "source": [
    "#1 case driven 2 analogy 3 2-8 energe theory\n"
   ]
  }
 ],
 "metadata": {
  "kernelspec": {
   "display_name": "Python 3",
   "language": "python",
   "name": "python3"
  },
  "language_info": {
   "codemirror_mode": {
    "name": "ipython",
    "version": 3
   },
   "file_extension": ".py",
   "mimetype": "text/x-python",
   "name": "python",
   "nbconvert_exporter": "python",
   "pygments_lexer": "ipython3",
   "version": "3.8.10"
  }
 },
 "nbformat": 4,
 "nbformat_minor": 5
}
